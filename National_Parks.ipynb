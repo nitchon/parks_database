{
 "cells": [
  {
   "cell_type": "code",
   "execution_count": 1,
   "id": "70551f5b",
   "metadata": {},
   "outputs": [],
   "source": [
    "import pandas as pd\n",
    "import requests\n",
    "from config import nps_key,weather_key\n",
    "pd.options.mode.chained_assignment = None"
   ]
  },
  {
   "cell_type": "markdown",
   "id": "3c5b4837",
   "metadata": {},
   "source": [
    "# Extract"
   ]
  },
  {
   "cell_type": "code",
   "execution_count": 9,
   "id": "15563dba",
   "metadata": {},
   "outputs": [],
   "source": [
    "# National Parks API Documentation : https://www.nps.gov/subjects/developer/api-documentation.htm\n",
    "\n",
    "url = \"https://developer.nps.gov/api/v1/parks?\"\n",
    "park = []\n",
    "params = {'api_key':nps_key,\n",
    "# 'stateCode':stateCode,\n",
    "'q':\"hiking\",\n",
    "'limit':300}\n",
    "response = requests.get(url,params=params).json()\n",
    "park=[]\n",
    "for x in range(len(response['data'])):\n",
    "\n",
    "            park_name = response['data'][x]['fullName']\n",
    "            parkCode = response['data'][x]['parkCode']\n",
    "            \n",
    "            street_add = response['data'][x]['addresses'][0]['line1']\n",
    "            city  = response['data'][x]['addresses'][0]['city']\n",
    "            state = response['data'][x]['addresses'][0]['stateCode']\n",
    "            zip_code = response['data'][x]['addresses'][0]['postalCode']\n",
    "            email = response['data'][x]['contacts']['emailAddresses'][0]['emailAddress']\n",
    "            lat = response['data'][x]['latitude']\n",
    "            lng = response['data'][x]['longitude']\n",
    "            weather_info = response['data'][x]['weatherInfo']\n",
    "            try:\n",
    "                fee_car = response['data'][x]['entranceFees'][0]['cost']\n",
    "                fee_person = response['data'][x]['entranceFees'][2]['cost']\n",
    "                phone = response['data'][x]['contacts']['phoneNumbers'][0]['phoneNumber']\n",
    "            except:\n",
    "                fee_car = 0\n",
    "                fee_person = 0\n",
    "                phone = \"N/A\"\n",
    "            data_dict = {'park_code':parkCode,\n",
    "                'park_name': park_name,\n",
    "            'fee_per_car':fee_car,\n",
    "            'fee_per_person':fee_person,\n",
    "            'street_address':street_add,\n",
    "            'city':city,\n",
    "            'state':state,\n",
    "            'zip_code':zip_code,\n",
    "            'phone_number':phone,\n",
    "            'email_address':email,\n",
    "            'lat':lat,\n",
    "            'lng':lng,\n",
    "            'Weather Summary':weather_info}\n",
    "            park.append(data_dict)\n",
    "park_df=pd.DataFrame(park)"
   ]
  },
  {
   "cell_type": "code",
   "execution_count": 5,
   "id": "740c9540",
   "metadata": {},
   "outputs": [
    {
     "name": "stdout",
     "output_type": "stream",
     "text": [
      "Beginning Data Retrieval\n",
      "-----------------------------\n"
     ]
    }
   ],
   "source": [
    "weather_df = park_df[['park_code','park_name','city','state','lat','lng']]\n",
    "weather_df[\"Min_Temp\"]=\"\"\n",
    "weather_df[\"Max_Temp\"]=\"\"\n",
    "weather_df[\"Humidity\"]=\"\"\n",
    "weather_df[\"Cloudiness\"]=\"\"\n",
    "weather_df[\"Wind_Speed\"]=\"\"\n",
    "weather_df[\"Date\"]=\"\"\n",
    "\n",
    "\n",
    "units = 'imperial'\n",
    "weather_key=weather_key\n",
    "openweather =  \"https://api.openweathermap.org/data/2.5/weather?\"\n",
    "\n",
    "print(\"Beginning Data Retrieval\")\n",
    "print(\"-----------------------------\")\n",
    "\n",
    "\n",
    "for index,row in weather_df.iterrows():\n",
    "    park = row[\"park_name\"]\n",
    "    lat = row['lat']\n",
    "    lng = row['lng']\n",
    "    params = {'appid':weather_key,\n",
    "             'lat':lat,\n",
    "             'lon':lng}\n",
    "    response = requests.get(openweather,params=params).json()\n",
    "    try:\n",
    "        min_temp = response[\"main\"][\"temp_min\"]\n",
    "        max_temp = response[\"main\"][\"temp_max\"]\n",
    "        humidity = response[\"main\"][\"humidity\"]\n",
    "        wind = response[\"wind\"][\"speed\"]\n",
    "        country = response[\"sys\"][\"country\"]\n",
    "        date = response[\"dt\"]\n",
    "        clouds = response['clouds']['all']\n",
    "        weather_df.loc[index,\"Humidity\"]=humidity\n",
    "        weather_df.loc[index,\"Min_Temp\"]=min_temp\n",
    "        weather_df.loc[index,\"Max _Temp\"]=max_temp\n",
    "        weather_df.loc[index,\"Humidity\"]=humidity\n",
    "        weather_df.loc[index,\"Cloudiness\"]=clouds\n",
    "        weather_df.loc[index,\"Wind_Speed\"]=wind\n",
    "        weather_df.loc[index,\"Country\"]=country\n",
    "        weather_df.loc[index,\"Date\"]=date\n",
    "    except:\n",
    "        pass"
   ]
  },
  {
   "cell_type": "code",
   "execution_count": 17,
   "id": "fc8276e8",
   "metadata": {},
   "outputs": [],
   "source": [
    "weather_df.to_csv('cleaned/weather_data.csv')"
   ]
  },
  {
   "cell_type": "markdown",
   "id": "736dcab5",
   "metadata": {},
   "source": [
    "# Transform"
   ]
  },
  {
   "cell_type": "code",
   "execution_count": 10,
   "id": "7dcc5e96",
   "metadata": {},
   "outputs": [],
   "source": [
    "park_df = park_df.replace({'Hawaiʻi Volcanoes National Park':'Hawaii Volcanoes National Park','Haleakalā National Park':'Haleakala National Park','Tumacácori National Historical Park':'Tumacacori National Historical Park'})"
   ]
  },
  {
   "cell_type": "code",
   "execution_count": 11,
   "id": "b6164831",
   "metadata": {},
   "outputs": [],
   "source": [
    "# All Trails pulled from \n",
    "# https://www.kaggle.com/code/jessicaqjiang/all-trails-in-np-analysis/data\n",
    "all_trails = pd.read_csv('Working/Resources/AllTrails data - nationalpark.csv')\n",
    "all_trails=all_trails.reset_index(drop=True)\n",
    "park_code = park_df[[\"park_name\",\"park_code\"]]"
   ]
  },
  {
   "cell_type": "code",
   "execution_count": 12,
   "id": "c6573f5e",
   "metadata": {},
   "outputs": [],
   "source": [
    "# Some National Parks are listed differently in the All Trails Dataset; need to rename\n",
    "all_trails = all_trails.replace({'Black Canyon of the Gunnison National Park':'Black Canyon Of The Gunnison National Park',\n",
    "                          'Congaree National Park Wilderness':'Congaree National Park,','Denali National Park':'Denali National Park & Preserve',\n",
    "                          'Glacier Bay National Park':'Glacier Bay National Park & Preserve','Great Sand Dunes National Park and Preserve':'Great Sand Dunes National Park & Preserve',\n",
    "                          'Katmai National Park':'Katmai National Park & Preserve','Kings Canyon National Park':'Sequoia & Kings Canyon National Parks',\n",
    "                          'Sequoia National Park':'Sequoia & Kings Canyon National Parks','Redwood National Park':'Redwood National and State Parks'})"
   ]
  },
  {
   "cell_type": "code",
   "execution_count": 13,
   "id": "33260753",
   "metadata": {},
   "outputs": [],
   "source": [
    "# Inserting Park Code as a sort of Foreign Key\n",
    "all_trails['park_code']=''\n",
    "\n",
    "for index,row in all_trails.iterrows():\n",
    "    park = row['area_name']\n",
    "    try:\n",
    "        code=park_code.loc[(park_code['park_name']==park),['park_code']].values[0][0]\n",
    "        all_trails.iloc[index,18]=code\n",
    "    except:\n",
    "        all_trails.iloc[index,18]='look'"
   ]
  },
  {
   "cell_type": "code",
   "execution_count": 14,
   "id": "8ece1a0c",
   "metadata": {},
   "outputs": [],
   "source": [
    "# Some national parks in All Trails do not appear in the National Parks API; filter out and save off\n",
    "look_df=all_trails.loc[all_trails['park_code']=='look']\n",
    "look_df.to_csv('cleaned/trails_without_code.csv')"
   ]
  },
  {
   "cell_type": "code",
   "execution_count": 15,
   "id": "0e3174b4",
   "metadata": {},
   "outputs": [],
   "source": [
    "all_trails_cleaned = all_trails.loc[all_trails['park_code']!='look',:]\n",
    "# Rename the column with trail name\n",
    "all_trails_cleaned.rename(columns= {\"name\": \"trail\"}, inplace = True)\n",
    "\n",
    "# Drop the unwanted columns\n",
    "# Upon investigation all units are in meters regardless of the input in the units column\n",
    "all_trails_cleaned = all_trails_cleaned.drop(['country_name','visitor_usage','units'], axis = 1)\n",
    "\n",
    "# Make the trail_id the index\n",
    "all_trails_cleaned=all_trails_cleaned.set_index('trail_id')"
   ]
  },
  {
   "cell_type": "code",
   "execution_count": 16,
   "id": "563fdc5c",
   "metadata": {},
   "outputs": [],
   "source": [
    "alltrails_filtered =all_trails_cleaned[all_trails_cleaned['avg_rating'] >= 2]\n",
    "alltrails_filtered = all_trails_cleaned[all_trails_cleaned['num_reviews'] >= 10]\n",
    "alltrails_filtered.sort_values(by='popularity', inplace=True, ascending=False)\n",
    "alltrails_filtered.to_csv('cleaned/trails.csv')"
   ]
  },
  {
   "cell_type": "code",
   "execution_count": 18,
   "id": "5422ad9a",
   "metadata": {},
   "outputs": [],
   "source": [
    "summary_table = pd.DataFrame({'num_of_trails':alltrails_filtered.groupby('park_code').count()['trail'],\n",
    "                'avg_difficulty':alltrails_filtered.groupby('park_code').mean()['difficulty_rating'],\n",
    "                'avg_rating':alltrails_filtered.groupby('park_code').mean()['avg_rating']})\n",
    "\n",
    "summary_table = summary_table.reset_index(drop=False)"
   ]
  },
  {
   "cell_type": "code",
   "execution_count": 19,
   "id": "74119fe6",
   "metadata": {},
   "outputs": [],
   "source": [
    "aggregate_park = pd.merge(park_df,summary_table,how = 'left', on='park_code')\n",
    "aggregate_park = aggregate_park.fillna(0)\n",
    "aggregate_park.to_csv('cleaned/National_Parks.csv',index=False)"
   ]
  },
  {
   "cell_type": "markdown",
   "id": "4614414d",
   "metadata": {},
   "source": [
    "# Load"
   ]
  },
  {
   "cell_type": "code",
   "execution_count": 147,
   "id": "b2d8b131",
   "metadata": {},
   "outputs": [],
   "source": [
    "from sqlalchemy import create_engine\n",
    "# from config import pg_key"
   ]
  },
  {
   "cell_type": "code",
   "execution_count": null,
   "id": "67488b43",
   "metadata": {},
   "outputs": [],
   "source": [
    "protocol = 'postgresql'\n",
    "username = 'postgres'\n",
    "password = pg_key\n",
    "host = 'localhost'\n",
    "port = 5432"
   ]
  },
  {
   "cell_type": "code",
   "execution_count": null,
   "id": "d9d9dd32",
   "metadata": {},
   "outputs": [],
   "source": [
    "database_name = 'project_2_group_4_db'\n",
    "rds_connection_string = f'{protocol}://{username}:{password}@{host}:{port}/{database_name}'\n",
    "engine = create_engine(rds_connection_string)\n",
    "print(rds_connection_string)"
   ]
  },
  {
   "cell_type": "code",
   "execution_count": null,
   "id": "dbd6bcf2",
   "metadata": {},
   "outputs": [],
   "source": [
    "alltrails_filtered.to_sql(name='alltrails_filtered', con=engine, if_exists='append', index=False)"
   ]
  },
  {
   "cell_type": "code",
   "execution_count": null,
   "id": "2375ab93",
   "metadata": {},
   "outputs": [],
   "source": [
    "weather_data_df.to_sql(name='weather_data', con=engine, if_exists='append', index=False)"
   ]
  },
  {
   "cell_type": "code",
   "execution_count": null,
   "id": "8f7039be",
   "metadata": {},
   "outputs": [],
   "source": [
    "aggregate_park.to_sql(name='national_parks_cleaned', con=engine, if_exists='append', index=False)"
   ]
  },
  {
   "cell_type": "code",
   "execution_count": null,
   "id": "9833e0e6",
   "metadata": {},
   "outputs": [],
   "source": [
    "pd.read_sql_query('select * from alltrails_filtered', con=engine).head()"
   ]
  },
  {
   "cell_type": "code",
   "execution_count": null,
   "id": "dc1e0dda",
   "metadata": {},
   "outputs": [],
   "source": [
    "pd.read_sql_query('select * from national_parks_cleaned', con=engine).head()"
   ]
  },
  {
   "cell_type": "code",
   "execution_count": null,
   "id": "37d9b78e",
   "metadata": {},
   "outputs": [],
   "source": [
    "pd.read_sql_query('select * from weather_data', con=engine).head()"
   ]
  }
 ],
 "metadata": {
  "kernelspec": {
   "display_name": "Python 3 (ipykernel)",
   "language": "python",
   "name": "python3"
  },
  "language_info": {
   "codemirror_mode": {
    "name": "ipython",
    "version": 3
   },
   "file_extension": ".py",
   "mimetype": "text/x-python",
   "name": "python",
   "nbconvert_exporter": "python",
   "pygments_lexer": "ipython3",
   "version": "3.9.12"
  }
 },
 "nbformat": 4,
 "nbformat_minor": 5
}
